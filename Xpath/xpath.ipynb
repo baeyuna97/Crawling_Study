{
 "cells": [
  {
   "cell_type": "markdown",
   "metadata": {},
   "source": [
    "## XPATH를 이용하여 크롤링하기\n",
    " - 마크업에서 요소를 정의하기 위해 path 경로를 사용하는 방법\n",
    " - find_element_by_xpath(), find_elements_by_xpath() 메서드로 검색 가능\n",
    " - [XPATH 문법 상세 참고](https://wkdtjsgur100.github.io/selenium-xpath/)\n",
    " "
   ]
  },
  {
   "cell_type": "markdown",
   "metadata": {},
   "source": [
    "\n",
    "   - / : 절대경로를 나타냄\n",
    "   - // : 문서내에서 검색\n",
    "   - //@href : href 속성이 있는 모든 태그 선택\n",
    "   - //a[@href='http://google.com'] : a 태그의 href 속성에 http://google.com 속성값을 가진 모든 태그 선택 \n",
    "   - (//a)[3] : 문서의 세 번째 링크 선택\n",
    "   - (//table)[last()] : 문서의 마지막 테이블 선택\n",
    "   - (//a)[position() < 3] : 문서의 처음 두 링크 선택\n",
    "   - //table/tr/* 모든 테이블에서 모든 자식 tr 태그 선택\n",
    "   - //div[@*] 속성이 하나라도 있는 div 태그 선택"
   ]
  },
  {
   "cell_type": "markdown",
   "metadata": {},
   "source": [
    "# 다음 뉴스 "
   ]
  },
  {
   "cell_type": "code",
   "execution_count": 16,
   "metadata": {
    "tags": []
   },
   "outputs": [
    {
     "output_type": "stream",
     "name": "stdout",
     "text": "오승윤 \"음주운전 방조, 제 잘못..깊이 뉘우치고 있다\" [공식입장]\n"
    }
   ],
   "source": [
    "from selenium import webdriver\n",
    "\n",
    "options = webdriver.ChromeOptions()\n",
    "options.add_argument('headless')\n",
    "options.add_argument('window-size=1920x1080')\n",
    "options.add_argument('disable-gpu')\n",
    "options.add_argument('User-Agent: Mozilla/5.0 (Macintosh; Intel Mac OS X 10_14_4) AppleWebKit/537.36 (KHTML, like Gecko) Chrome/74.0.3729.131 Safari/537.36')\n",
    "options.add_argument('lang=ko_KR')\n",
    "\n",
    "# /Users/baeyuna/Documents/Crawling/xpath.ipynb\n",
    "chromedriver = '/Users/baeyuna/Documents/chromedriver'\n",
    "driver = webdriver.Chrome(chromedriver, options=options) # webdriver.ChromeOptions()\n",
    "driver.get('https://entertain.v.daum.net/v/20190711174023188')\n",
    "\n",
    "title = driver.find_element_by_xpath('//*[@id=\"cSub\"]/div/h3')\n",
    "# 어디에서나 (//) 태그가 cSub인 아이디를 찾아서 ([@id=]) 그 안 div 태그안에 h3 찾은 셈\n",
    "print(title.text)\n",
    "driver.quit()"
   ]
  },
  {
   "cell_type": "code",
   "execution_count": 17,
   "metadata": {
    "tags": []
   },
   "outputs": [
    {
     "output_type": "stream",
     "name": "stdout",
     "text": "오승윤 \"음주운전 방조, 제 잘못..깊이 뉘우치고 있다\" [공식입장]\n"
    }
   ],
   "source": [
    "from selenium import webdriver\n",
    "\n",
    "options = webdriver.ChromeOptions()\n",
    "options.add_argument('headless')\n",
    "options.add_argument('window-size=1920x1080')\n",
    "options.add_argument('disable-gpu')\n",
    "options.add_argument('User-Agent: Mozilla/5.0 (Macintosh; Intel Mac OS X 10_14_4) AppleWebKit/537.36 (KHTML, like Gecko) Chrome/74.0.3729.131 Safari/537.36')\n",
    "options.add_argument('lang=ko_KR')\n",
    "\n",
    "# /Users/baeyuna/Documents/Crawling/xpath.ipynb\n",
    "chromedriver = '/Users/baeyuna/Documents/chromedriver'\n",
    "driver = webdriver.Chrome(chromedriver, options=options) # webdriver.ChromeOptions()\n",
    "driver.get('https://entertain.v.daum.net/v/20190711174023188')\n",
    "\n",
    "# 문서 전체에서 title 검색\n",
    "title = driver.find_element_by_xpath('//title')\n",
    "# head 부분은 get_attribute로 나옴\n",
    "print(title.get_attribute('text'))\n",
    "driver.quit()"
   ]
  },
  {
   "cell_type": "markdown",
   "metadata": {},
   "source": [
    "# 페이스북 로그인 코드"
   ]
  },
  {
   "cell_type": "code",
   "execution_count": 18,
   "metadata": {},
   "outputs": [],
   "source": [
    "from selenium import webdriver\n",
    "from selenium.webdriver.support.ui import WebDriverWait\n",
    "from selenium.webdriver.support import expected_conditions as EC \n",
    "from selenium.webdriver.common.by import By\n",
    "\n",
    "driver = webdriver.Chrome('/user/local/Cellar/chromedriver/chromedriver')\n",
    "driver.get('https://www.facebook.com/')\n",
    "\n",
    "user_name = ' '\n",
    "password = ' '\n",
    "email_id = '//*[@id=\"email\"]'\n",
    "password_id = '//*[@id=\"pass\"]'\n",
    "login_button = '//*[@id=\"u_0_e\"]'\n",
    "\n",
    "# 태그가 나올때까지 기다린다. \n",
    "email_tag = WebDriverWait(driver, 10).until(EC.presence_of_all_elements_located(By.XPATH, email_id))\n",
    "password_tag = WebDriverWait(driver, 10).until(EC.presence_of_all_elements_located(By.XPATH, password_id))\n",
    "login_button_tag = WebDriverWait(driver, 10).until(EC.presence_of_all_elements_located(By.XPATH, login_button))\n",
    "\n",
    "# 각각의 태그마다 값을 넣는다. \n",
    "email_tag.clear() # 원래 적혀있던 값이 있다면 지우고\n",
    "email_tag.send_keys(user_name)\n",
    "password_tag.cleat()\n",
    "password_tag.send_keys(password)\n",
    "login_button.click()\n",
    "\n",
    "time.sleep(5) # 기다려 \n",
    "\n",
    "# 자신의 페이스북 페이지에서 크롤링 할게 있다면 코드 작성 ~~~\n",
    "\n",
    "driver.quit()"
   ]
  },
  {
   "cell_type": "markdown",
   "metadata": {},
   "source": [
    "# 식코 기사 최신 10개 크롤링"
   ]
  },
  {
   "cell_type": "code",
   "execution_count": null,
   "metadata": {},
   "outputs": [],
   "source": [
    "from selenium import webdriver\n",
    "\n",
    "driver = webdriver.Chrome('/Users/baeyuna/Documents/chromedriver')\n",
    "driver.get('https://www.seeko.kr/zboard4/zboard.php?id=mainnews')\n",
    "\n",
    "article_data = list()\n",
    "titles = driver.find_elements_by_xpath(\"//td[@class='article_subject']\")\n",
    "hits = driver.find_elements_by_xpath(\"//td[@class='r_s_font article_count']\")\n",
    "\n",
    "for num in range(10):\n",
    "    article_data.append([titles[num].text, hits[num].text])\n",
    "\n",
    "print (article_data)"
   ]
  },
  {
   "cell_type": "code",
   "execution_count": null,
   "metadata": {},
   "outputs": [],
   "source": []
  },
  {
   "cell_type": "code",
   "execution_count": null,
   "metadata": {
    "collapsed": true
   },
   "outputs": [],
   "source": []
  }
 ],
 "metadata": {
  "kernelspec": {
   "display_name": "Python 3",
   "language": "python",
   "name": "python3"
  },
  "language_info": {
   "codemirror_mode": {
    "name": "ipython",
    "version": 3
   },
   "file_extension": ".py",
   "mimetype": "text/x-python",
   "name": "python",
   "nbconvert_exporter": "python",
   "pygments_lexer": "ipython3",
   "version": "3.7.2"
  },
  "nbTranslate": {
   "displayLangs": [
    "*"
   ],
   "hotkey": "alt-t",
   "langInMainMenu": true,
   "sourceLang": "en",
   "targetLang": "fr",
   "useGoogleTranslate": true
  }
 },
 "nbformat": 4,
 "nbformat_minor": 1
}